{
 "cells": [
  {
   "cell_type": "markdown",
   "metadata": {},
   "source": [
    "## 第3回課題: Keplerの第三法則と最小二乗法\n",
    "- 前回のノートブック[2-1(NumPyについて)](https://github.com/kemasuda/physics_seminar_2025/blob/main/lecture2_tutorial/lecture2-1_numpy.ipynb), [2-2(グラフの作成)](https://github.com/kemasuda/physics_seminar_2025/blob/main/lecture2_tutorial/lecture2-2_plot.ipynb)なども参考にしつつ、指示に従ってプログラムを書いてみよう。"
   ]
  },
  {
   "cell_type": "code",
   "execution_count": 1,
   "metadata": {},
   "outputs": [],
   "source": [
    "# 計算に用いるモジュールの読み込み\n",
    "# numpy, matplotlib.pyplot が正式名称だが、長いので \"as\" 以降で省略した名前（このプログラム内で有効）を定義している。\n",
    "# モジュールについては以下も参照。\n",
    "import numpy as np\n",
    "import matplotlib.pyplot as plt"
   ]
  },
  {
   "cell_type": "markdown",
   "metadata": {},
   "source": [
    "### 組み込み関数とモジュール"
   ]
  },
  {
   "cell_type": "markdown",
   "metadata": {},
   "source": [
    "[lecture2-1_numpy.ipynb](https://github.com/kemasuda/physics_seminar_2025/blob/main/lecture2_tutorial/lecture2-1_numpy.ipynb)で扱ったような配列"
   ]
  },
  {
   "cell_type": "code",
   "execution_count": 2,
   "metadata": {},
   "outputs": [],
   "source": [
    "a = np.array([1, 2, 3, 4, 5])"
   ]
  },
  {
   "cell_type": "markdown",
   "metadata": {},
   "source": [
    "を考えよう。これは5つの要素をもつ配列である。配列の要素数は関数 len で取得できる："
   ]
  },
  {
   "cell_type": "code",
   "execution_count": 3,
   "metadata": {},
   "outputs": [
    {
     "data": {
      "text/plain": [
       "5"
      ]
     },
     "execution_count": 3,
     "metadata": {},
     "output_type": "execute_result"
    }
   ],
   "source": [
    "len(a)"
   ]
  },
  {
   "cell_type": "markdown",
   "metadata": {},
   "source": [
    "この関数 len は Python に最初から用意されている関数（組み込み関数）なので、ただ len と書けば使える。一方で、平均（mean）を求めるために"
   ]
  },
  {
   "cell_type": "code",
   "execution_count": 4,
   "metadata": {},
   "outputs": [
    {
     "ename": "NameError",
     "evalue": "name 'mean' is not defined",
     "output_type": "error",
     "traceback": [
      "\u001b[0;31m---------------------------------------------------------------------------\u001b[0m",
      "\u001b[0;31mNameError\u001b[0m                                 Traceback (most recent call last)",
      "Cell \u001b[0;32mIn[4], line 1\u001b[0m\n\u001b[0;32m----> 1\u001b[0m \u001b[43mmean\u001b[49m(a)\n",
      "\u001b[0;31mNameError\u001b[0m: name 'mean' is not defined"
     ]
    }
   ],
   "source": [
    "mean(a)"
   ]
  },
  {
   "cell_type": "markdown",
   "metadata": {},
   "source": [
    "とかするとエラーが出る。これは mean という関数が Python には最初から用意されて**いない**ためである。numpy にはこの関数が入っているので、"
   ]
  },
  {
   "cell_type": "code",
   "execution_count": 5,
   "metadata": {},
   "outputs": [
    {
     "data": {
      "text/plain": [
       "3.0"
      ]
     },
     "execution_count": 5,
     "metadata": {},
     "output_type": "execute_result"
    }
   ],
   "source": [
    "np.mean(a)"
   ]
  },
  {
   "cell_type": "markdown",
   "metadata": {},
   "source": [
    "とするとちゃんと計算できる。必要な関数がどのモジュールに入っているかはやりながら覚えればよい。"
   ]
  },
  {
   "cell_type": "markdown",
   "metadata": {},
   "source": [
    "### データの読み込み"
   ]
  },
  {
   "cell_type": "markdown",
   "metadata": {},
   "source": [
    "solar_system.txtには配布した表の太陽系のデータが格納されているので、まずこれをプログラム上で読み込もう。ファイルの読み込みには[副教材4-1](https://utokyo-ipp.github.io/4/4-1.html)のような方法もあるが、ここでは pandas というパッケージを使う。"
   ]
  },
  {
   "cell_type": "code",
   "execution_count": 6,
   "metadata": {
    "id": "mGZi7S_scZxE"
   },
   "outputs": [],
   "source": [
    "import pandas as pd"
   ]
  },
  {
   "cell_type": "markdown",
   "metadata": {},
   "source": [
    "read_csv は、カンマ（,）記号で区切られたCSV（Comma Separated Value）形式のデータを読み込む関数である。comment=\"#\"は、#から始まる行はコメントとして無視することを指示している（ファイルを直接開いて見てみよう）。さらに引数に delimiter=\"|\" などと指定すれば、カンマ以外で区切られたデータ（この例では|）も同様に読めて便利である。ここではカンマ（,）で区切られたデータを扱っているのでこの指定は必要ない。"
   ]
  },
  {
   "cell_type": "code",
   "execution_count": 7,
   "metadata": {
    "id": "D7qN6HSLceMo"
   },
   "outputs": [],
   "source": [
    "data = pd.read_csv(\"solar_system.txt\", comment=\"#\")"
   ]
  },
  {
   "cell_type": "code",
   "execution_count": 8,
   "metadata": {},
   "outputs": [
    {
     "data": {
      "text/html": [
       "<div>\n",
       "<style scoped>\n",
       "    .dataframe tbody tr th:only-of-type {\n",
       "        vertical-align: middle;\n",
       "    }\n",
       "\n",
       "    .dataframe tbody tr th {\n",
       "        vertical-align: top;\n",
       "    }\n",
       "\n",
       "    .dataframe thead th {\n",
       "        text-align: right;\n",
       "    }\n",
       "</style>\n",
       "<table border=\"1\" class=\"dataframe\">\n",
       "  <thead>\n",
       "    <tr style=\"text-align: right;\">\n",
       "      <th></th>\n",
       "      <th>name</th>\n",
       "      <th>sma_au</th>\n",
       "      <th>eccentricity</th>\n",
       "      <th>inclination_deg</th>\n",
       "      <th>mass_kg</th>\n",
       "      <th>mass_earth</th>\n",
       "      <th>radius_km</th>\n",
       "      <th>radius_earth</th>\n",
       "      <th>period_yr</th>\n",
       "    </tr>\n",
       "  </thead>\n",
       "  <tbody>\n",
       "    <tr>\n",
       "      <th>0</th>\n",
       "      <td>Mercury</td>\n",
       "      <td>0.39</td>\n",
       "      <td>0.2100</td>\n",
       "      <td>7.00</td>\n",
       "      <td>3.300000e+23</td>\n",
       "      <td>0.055</td>\n",
       "      <td>2441</td>\n",
       "      <td>0.38</td>\n",
       "      <td>0.24</td>\n",
       "    </tr>\n",
       "    <tr>\n",
       "      <th>1</th>\n",
       "      <td>Venus</td>\n",
       "      <td>0.72</td>\n",
       "      <td>0.0068</td>\n",
       "      <td>3.40</td>\n",
       "      <td>4.900000e+24</td>\n",
       "      <td>0.820</td>\n",
       "      <td>6052</td>\n",
       "      <td>0.95</td>\n",
       "      <td>0.62</td>\n",
       "    </tr>\n",
       "    <tr>\n",
       "      <th>2</th>\n",
       "      <td>Earth</td>\n",
       "      <td>1.00</td>\n",
       "      <td>0.0170</td>\n",
       "      <td>0.00</td>\n",
       "      <td>6.000000e+24</td>\n",
       "      <td>1.000</td>\n",
       "      <td>6378</td>\n",
       "      <td>1.00</td>\n",
       "      <td>1.00</td>\n",
       "    </tr>\n",
       "    <tr>\n",
       "      <th>3</th>\n",
       "      <td>Mars</td>\n",
       "      <td>1.52</td>\n",
       "      <td>0.0930</td>\n",
       "      <td>1.90</td>\n",
       "      <td>6.400000e+23</td>\n",
       "      <td>0.110</td>\n",
       "      <td>3396</td>\n",
       "      <td>0.53</td>\n",
       "      <td>1.88</td>\n",
       "    </tr>\n",
       "    <tr>\n",
       "      <th>4</th>\n",
       "      <td>Jupiter</td>\n",
       "      <td>5.20</td>\n",
       "      <td>0.0480</td>\n",
       "      <td>1.30</td>\n",
       "      <td>1.900000e+27</td>\n",
       "      <td>318.000</td>\n",
       "      <td>71492</td>\n",
       "      <td>11.20</td>\n",
       "      <td>11.90</td>\n",
       "    </tr>\n",
       "    <tr>\n",
       "      <th>5</th>\n",
       "      <td>Saturn</td>\n",
       "      <td>9.54</td>\n",
       "      <td>0.0540</td>\n",
       "      <td>2.50</td>\n",
       "      <td>5.700000e+26</td>\n",
       "      <td>95.000</td>\n",
       "      <td>60268</td>\n",
       "      <td>9.40</td>\n",
       "      <td>29.50</td>\n",
       "    </tr>\n",
       "    <tr>\n",
       "      <th>6</th>\n",
       "      <td>Uranus</td>\n",
       "      <td>19.20</td>\n",
       "      <td>0.0470</td>\n",
       "      <td>0.77</td>\n",
       "      <td>8.700000e+25</td>\n",
       "      <td>14.500</td>\n",
       "      <td>25559</td>\n",
       "      <td>4.00</td>\n",
       "      <td>84.00</td>\n",
       "    </tr>\n",
       "    <tr>\n",
       "      <th>7</th>\n",
       "      <td>Neptune</td>\n",
       "      <td>30.10</td>\n",
       "      <td>0.0086</td>\n",
       "      <td>1.80</td>\n",
       "      <td>1.000000e+26</td>\n",
       "      <td>17.000</td>\n",
       "      <td>24764</td>\n",
       "      <td>3.90</td>\n",
       "      <td>165.00</td>\n",
       "    </tr>\n",
       "  </tbody>\n",
       "</table>\n",
       "</div>"
      ],
      "text/plain": [
       "      name  sma_au  eccentricity  inclination_deg       mass_kg  mass_earth  \\\n",
       "0  Mercury    0.39        0.2100             7.00  3.300000e+23       0.055   \n",
       "1    Venus    0.72        0.0068             3.40  4.900000e+24       0.820   \n",
       "2    Earth    1.00        0.0170             0.00  6.000000e+24       1.000   \n",
       "3     Mars    1.52        0.0930             1.90  6.400000e+23       0.110   \n",
       "4  Jupiter    5.20        0.0480             1.30  1.900000e+27     318.000   \n",
       "5   Saturn    9.54        0.0540             2.50  5.700000e+26      95.000   \n",
       "6   Uranus   19.20        0.0470             0.77  8.700000e+25      14.500   \n",
       "7  Neptune   30.10        0.0086             1.80  1.000000e+26      17.000   \n",
       "\n",
       "   radius_km  radius_earth  period_yr  \n",
       "0       2441          0.38       0.24  \n",
       "1       6052          0.95       0.62  \n",
       "2       6378          1.00       1.00  \n",
       "3       3396          0.53       1.88  \n",
       "4      71492         11.20      11.90  \n",
       "5      60268          9.40      29.50  \n",
       "6      25559          4.00      84.00  \n",
       "7      24764          3.90     165.00  "
      ]
     },
     "execution_count": 8,
     "metadata": {},
     "output_type": "execute_result"
    }
   ],
   "source": [
    "data"
   ]
  },
  {
   "cell_type": "markdown",
   "metadata": {},
   "source": [
    "最初の行はヘッダーとして、上のread_csvの使い方だと列の名前になる。辞書（[副教材3-1](https://utokyo-ipp.github.io/3/3-1.html)）と同様に、列の名前をキーとしてデータを参照できる。例えば"
   ]
  },
  {
   "cell_type": "code",
   "execution_count": 9,
   "metadata": {},
   "outputs": [
    {
     "data": {
      "text/plain": [
       "0    Mercury\n",
       "1      Venus\n",
       "2      Earth\n",
       "3       Mars\n",
       "4    Jupiter\n",
       "5     Saturn\n",
       "6     Uranus\n",
       "7    Neptune\n",
       "Name: name, dtype: object"
      ]
     },
     "execution_count": 9,
     "metadata": {},
     "output_type": "execute_result"
    }
   ],
   "source": [
    "data[\"name\"]"
   ]
  },
  {
   "cell_type": "markdown",
   "metadata": {},
   "source": [
    "でname（惑星の名前）の列が取り出される。ここでは軌道長半径（sma_au）と公転周期（period_yr）の関係を調べたいので、これらの列を配列として取り出しておく。"
   ]
  },
  {
   "cell_type": "code",
   "execution_count": 10,
   "metadata": {},
   "outputs": [],
   "source": [
    "a = np.array(data[\"sma_au\"])\n",
    "P = np.array(data[\"period_yr\"])"
   ]
  },
  {
   "cell_type": "markdown",
   "metadata": {},
   "source": [
    "セルの上部にカーソルを持っていくと \"+ コード\" や \"+ Code\" というのが出る。これをクリックして新たなセルを作成し、aと入力して実行することで、aという配列の中身を確かめてみよう。\n",
    "このように、何か計算をしたら思った通りの中身になっているか確認しながら進めるとよい。"
   ]
  },
  {
   "cell_type": "markdown",
   "metadata": {},
   "source": [
    "常用対数は numpy の関数 np.log10 で計算できる。例えば"
   ]
  },
  {
   "cell_type": "code",
   "execution_count": 11,
   "metadata": {},
   "outputs": [
    {
     "data": {
      "text/plain": [
       "0.47712125471966244"
      ]
     },
     "execution_count": 11,
     "metadata": {},
     "output_type": "execute_result"
    }
   ],
   "source": [
    "np.log10(3)"
   ]
  },
  {
   "cell_type": "markdown",
   "metadata": {},
   "source": [
    "### 課題1: 対数の計算"
   ]
  },
  {
   "cell_type": "markdown",
   "metadata": {},
   "source": [
    "関数 np.log10 を用いて、配列a, Pから$y=\\log_{10}(a)$, $x=\\log_{10}(P)$の配列を計算しよう。"
   ]
  },
  {
   "cell_type": "code",
   "execution_count": 12,
   "metadata": {},
   "outputs": [],
   "source": [
    "# aの対数を計算\n",
    "y = np.log10(a)"
   ]
  },
  {
   "cell_type": "code",
   "execution_count": 13,
   "metadata": {},
   "outputs": [],
   "source": [
    "# Pの対数を計算\n",
    "x = np.log10(P)"
   ]
  },
  {
   "cell_type": "markdown",
   "metadata": {},
   "source": [
    "### 課題2: 最小二乗法の計算"
   ]
  },
  {
   "cell_type": "markdown",
   "metadata": {},
   "source": [
    "Keplerの第三法則が正しければ、$y$と$x$の関係は1次関数\n",
    "$$\n",
    "y = Ax + B\n",
    "$$\n",
    "で表されることになる（$A$, $B$は定数）。データの組$(x_1, y_1)$, $(x_2, y_2)$, $\\dots$, $(x_N, y_N)$が与えられたとき、定数$A$, $B$は最小二乗法を用いると\n",
    "$$\n",
    "\\begin{align}\n",
    "\tA &=  {NC - XY \\over {NS - X^2}}\\\\\n",
    "\tB &= {SY - CX \\over {NS - X^2}}\n",
    "\\end{align}\n",
    "$$\n",
    "のように**データから**推定できる。ここで、\n",
    "$$\n",
    "X =  \\sum_{i=1}^N x_i, \\quad Y = \\sum_{i=1}^N y_i, \\quad S = \\sum_{i=1}^N x_i^2, \\quad C = \\sum_{i=1}^N x_iy_i\n",
    "$$\n",
    "である。"
   ]
  },
  {
   "cell_type": "markdown",
   "metadata": {},
   "source": [
    "まず $X$, $Y$, $S$, $C$のそれぞれを np.sum() 関数で計算してみよう。"
   ]
  },
  {
   "cell_type": "code",
   "execution_count": 14,
   "metadata": {},
   "outputs": [],
   "source": [
    "# X, Y, S, C を計算\n",
    "X = np.sum(x)\n",
    "Y = np.sum(y)\n",
    "S = np.sum(x*x)\n",
    "C = np.sum(x*y)"
   ]
  },
  {
   "cell_type": "markdown",
   "metadata": {},
   "source": [
    "$N$（データの数）は関数 len() で計算できる。"
   ]
  },
  {
   "cell_type": "code",
   "execution_count": 15,
   "metadata": {},
   "outputs": [],
   "source": [
    "N = len(x)"
   ]
  },
  {
   "cell_type": "markdown",
   "metadata": {},
   "source": [
    "最後に式(1), (2)を用いて、$A$, $B$を計算しよう。"
   ]
  },
  {
   "cell_type": "code",
   "execution_count": 16,
   "metadata": {},
   "outputs": [],
   "source": [
    "den = N * S - X * X # 分母（denominator）は共通\n",
    "A = (N * C - X * Y) / den \n",
    "B = (S * Y - C * X) / den"
   ]
  },
  {
   "cell_type": "markdown",
   "metadata": {},
   "source": [
    "Aはいくつになったか？　予想される値と一致したか？"
   ]
  },
  {
   "cell_type": "code",
   "execution_count": 17,
   "metadata": {},
   "outputs": [
    {
     "name": "stdout",
     "output_type": "stream",
     "text": [
      "0.6665410995864587 -0.00010395537604497491\n"
     ]
    }
   ],
   "source": [
    "print(A, B) # 関数printで明示的に値を書き出せる。ここではただA,Bと書いて実行しても値は見られる。"
   ]
  },
  {
   "cell_type": "markdown",
   "metadata": {},
   "source": [
    "$a^3 \\propto P^2$より$a\\propto P^{2/3}$なので、傾き$A$は2/3になると予想される。実際そのような値にほぼなっている。"
   ]
  },
  {
   "cell_type": "markdown",
   "metadata": {},
   "source": [
    "### 課題3: グラフのプロット"
   ]
  },
  {
   "cell_type": "markdown",
   "metadata": {},
   "source": [
    "[lecture2-2_plot.ipynb](https://github.com/kemasuda/physics_seminar_2025/blob/main/lecture2_tutorial/lecture2-2_plot.ipynb)を参考に、matplotlib.pyplot を用いてグラフに$(x_i, y_i) \\ (i=1,2,\\dots,8)$を点でプロットしよう。"
   ]
  },
  {
   "cell_type": "code",
   "execution_count": 18,
   "metadata": {},
   "outputs": [
    {
     "data": {
      "image/png": "[encoded data removed]",
      "text/plain": [
       "<Figure size 640x480 with 1 Axes>"
      ]
     },
     "metadata": {},
     "output_type": "display_data"
    }
   ],
   "source": [
    "plt.plot(x, y, '.')\n",
    "plt.xlabel(\"$\\log_{10} P$ (yr)\")\n",
    "plt.ylabel(\"$\\log_{10} a$ (au)\");"
   ]
  },
  {
   "cell_type": "markdown",
   "metadata": {},
   "source": [
    "[lecture2-2_plot.ipynb](https://github.com/kemasuda/physics_seminar_2025/blob/main/lecture2_tutorial/lecture2-2_plot.ipynb) で2次関数のプロットでやったのと同様に、np.linspace() を用いて適当な範囲で配列 x0 を定義し、x0 に対して A*x0 + B を線でプロットしよう。これが最小二乗法で計算した直線である。正しくできていればデータ点を通るはずである（確認しよう）。"
   ]
  },
  {
   "cell_type": "code",
   "execution_count": 19,
   "metadata": {},
   "outputs": [],
   "source": [
    "x0 = np.linspace(-0.7, 2.5, 100) # 上のデータ点が収まるように-0.7から2.5までとった。100は配列の要素数だが、ここでは直線を引くので線でつなげば100以外にしても同じ結果になる。"
   ]
  },
  {
   "cell_type": "code",
   "execution_count": 20,
   "metadata": {},
   "outputs": [
    {
     "data": {
      "image/png": "[encoded data removed]",
      "text/plain": [
       "<Figure size 640x480 with 1 Axes>"
      ]
     },
     "metadata": {},
     "output_type": "display_data"
    }
   ],
   "source": [
    "plt.plot(x, y, 'o', label='solar system planets') # マーカーを大きくしてラベルをつけた\n",
    "plt.plot(x0, A*x0 + B, '-', label='least-squares fit') # 線で表示\n",
    "plt.xlabel(\"$\\log_{10} P$ (yr)\") # $$で囲むと数式が書ける\n",
    "plt.ylabel(\"$\\log_{10} a$ (au)\")\n",
    "plt.legend(); # 凡例（ラベル）を表示"
   ]
  },
  {
   "cell_type": "markdown",
   "metadata": {},
   "source": [
    "### 課題4: 関数の作成 （これ以降は余裕があれば）"
   ]
  },
  {
   "cell_type": "markdown",
   "metadata": {},
   "source": [
    "[副教材3.3](https://utokyo-ipp.github.io/3/3-3.html)も参考に、$x$, $y$の配列を引数とし、$A$, $B$を返り値とする関数を作成してみよう。例えば、x,y を引数としてその和と差を返す関数は以下のように書ける："
   ]
  },
  {
   "cell_type": "code",
   "execution_count": 21,
   "metadata": {},
   "outputs": [],
   "source": [
    "def wa_and_sa(x, y):\n",
    "    wa = x + y\n",
    "    sa = x - y\n",
    "    return wa, sa"
   ]
  },
  {
   "cell_type": "markdown",
   "metadata": {},
   "source": [
    "これで wa_and_sa という名前の関数が定義された。これを使うと例えば以下のように計算できる："
   ]
  },
  {
   "cell_type": "code",
   "execution_count": 22,
   "metadata": {},
   "outputs": [
    {
     "data": {
      "text/plain": [
       "(3, 1)"
      ]
     },
     "execution_count": 22,
     "metadata": {},
     "output_type": "execute_result"
    }
   ],
   "source": [
    "wa_and_sa(2, 1)"
   ]
  },
  {
   "cell_type": "markdown",
   "metadata": {},
   "source": [
    "もちろんこの程度ならば関数を作らなくても普通に計算できるが、例えばより大きなプログラムで同じ操作を繰り返し行う場合などは関数としてまとめると便利である。"
   ]
  },
  {
   "cell_type": "markdown",
   "metadata": {},
   "source": [
    "最小二乗法の関数は、上で行った操作をまとめて例えば以下のように作れる。"
   ]
  },
  {
   "cell_type": "code",
   "execution_count": 23,
   "metadata": {},
   "outputs": [],
   "source": [
    "def least_squares(x, y):\n",
    "    \"\"\"配列x, yから、最小二乗法（least squares）で傾きA, y切片Bを計算する関数\"\"\"\n",
    "    X = np.sum(x)\n",
    "    Y = np.sum(y)\n",
    "    S = np.sum(x*x)\n",
    "    C = np.sum(x*y)\n",
    "    N = len(x)\n",
    "\n",
    "    den = N * S - X * X # 分母（denominator）は共通なので一度だけ計算した\n",
    "    A = (N * C - X * Y) / den \n",
    "    B = (S * Y - C * X) / den\n",
    "\n",
    "    return A, B"
   ]
  },
  {
   "cell_type": "markdown",
   "metadata": {},
   "source": [
    "### 課題5: 木星の衛星とKeplerの第三法則"
   ]
  },
  {
   "cell_type": "markdown",
   "metadata": {},
   "source": [
    "CLEのjupiter_satellites.txtは、木星のまわりを公転する衛星の軌道長半径と周期のデータである。このデータについても上と同様な解析を行なってみよう。"
   ]
  },
  {
   "cell_type": "code",
   "execution_count": 24,
   "metadata": {},
   "outputs": [],
   "source": [
    "d2 = pd.read_csv(\"jupiter_satellites.txt\", comment='#') # 一応最初のデータ（dで定義）を上書きしないように違う文字にした。以下も同様。"
   ]
  },
  {
   "cell_type": "code",
   "execution_count": 25,
   "metadata": {},
   "outputs": [],
   "source": [
    "a_km, P_days = np.array(d2['semi-major axis (km)']), np.array(d2['orbital period (days)'])"
   ]
  },
  {
   "cell_type": "code",
   "execution_count": 26,
   "metadata": {},
   "outputs": [
    {
     "name": "stdout",
     "output_type": "stream",
     "text": [
      "0.6665454301065835 5.460206659261678\n"
     ]
    }
   ],
   "source": [
    "x2, y2 = np.log10(P_days), np.log10(a_km)\n",
    "A2, B2 = least_squares(x2, y2)\n",
    "print(A2, B2)"
   ]
  },
  {
   "cell_type": "code",
   "execution_count": 27,
   "metadata": {},
   "outputs": [
    {
     "data": {
      "image/png": "[encoded data removed]",
      "text/plain": [
       "<Figure size 640x480 with 1 Axes>"
      ]
     },
     "metadata": {},
     "output_type": "display_data"
    }
   ],
   "source": [
    "plt.plot(x2, y2, 'o', label=\"Jupiter's satellites\") # 大きくした\n",
    "plt.plot(x0, A2 * x0 + B2, '-', label=\"least-squares fit\") # 線で表示\n",
    "plt.xlabel(\"$\\log_{10} P$ (days)\")\n",
    "plt.ylabel(\"$\\log_{10} a$ (km)\")\n",
    "plt.legend(loc=\"best\");"
   ]
  },
  {
   "cell_type": "markdown",
   "metadata": {},
   "source": [
    "この場合もKeplerの第三法則が成り立っていることがわかる。"
   ]
  },
  {
   "cell_type": "markdown",
   "metadata": {},
   "source": [
    "### おまけ: 木星と太陽の質量比"
   ]
  },
  {
   "cell_type": "markdown",
   "metadata": {},
   "source": [
    "太陽系の惑星と太陽、木星の衛星と木星のように、質量の大きい中心天体のまわりをそれに比べて質量の無視できるほど小さい天体が公転している場合、Keplerの第三法則は近似的に\n",
    "$$\n",
    "{a^3 \\over P^2} = kM\n",
    "$$\n",
    "（$k$は定数、$M$は中心天体の質量）と表せる（補足資料PDFも参照）。これより\n",
    "$$\n",
    "3\\log_{10} a - 2\\log_{10} P = \\log_{10}k + \\log_{10} M\n",
    "$$\n",
    "あるいは\n",
    "$$\n",
    "\\log_{10}a = {2 \\over 3}\\log_{10} P + {1\\over 3}(\\log_{10}k + \\log_{10} M)\n",
    "$$\n",
    "が成り立つ。上で最小二乗法で計算した傾き$A$は$2/3$, y切片$B$は${1\\over 3}(\\log_{10}k + \\log_{10} M)$に対応する。よって、木星-衛星と太陽-惑星とで計算した$B$の差をとると\n",
    "$$\n",
    "B_\\mathrm{Jupiter} - B_\\mathrm{Sun} = {1\\over 3}\\left(\\log_{10} M_\\mathrm{Jupiter}- \\log_{10} M_\\mathrm{Sun}\\right) = {1\\over 3}\\log_{10}\\left(M_\\mathrm{Jupiter}\\over M_\\mathrm{Sun}\\right)\n",
    "$$\n",
    "となり、ここから\n",
    "$$\n",
    "{M_\\mathrm{Jupiter}\\over M_\\mathrm{Sun}} = 10^{3(B_\\mathrm{Jupiter} - B_\\mathrm{Sun})}\n",
    "$$\n",
    "を計算すれば木星と太陽の質量比が得られることがわかる。"
   ]
  },
  {
   "cell_type": "markdown",
   "metadata": {},
   "source": [
    "ただし、実際に計算する場合は$k$の値は$a$,$P$の単位に依存するので、これらの単位を揃える必要があることに注意する。おおよその値として$1\\,\\mathrm{au}=1.496\\times10^{8}\\,\\mathrm{km}$, $1\\,\\mathrm{yr}=365.25\\,\\mathrm{days}$を用いると、木星の衛星について"
   ]
  },
  {
   "cell_type": "code",
   "execution_count": 28,
   "metadata": {},
   "outputs": [],
   "source": [
    "a_au_jup = a_km / 1.496e8 # au単位に変換\n",
    "P_yr_jup = P_days / 365.25 # yr単位に変換"
   ]
  },
  {
   "cell_type": "markdown",
   "metadata": {},
   "source": [
    "より、木星の衛星について"
   ]
  },
  {
   "cell_type": "code",
   "execution_count": 29,
   "metadata": {},
   "outputs": [],
   "source": [
    "A_jup, B_jup = least_squares(np.log10(P_yr_jup), np.log10(a_au_jup))"
   ]
  },
  {
   "cell_type": "code",
   "execution_count": 30,
   "metadata": {},
   "outputs": [
    {
     "data": {
      "text/plain": [
       "-1.0066421308196107"
      ]
     },
     "execution_count": 30,
     "metadata": {},
     "output_type": "execute_result"
    }
   ],
   "source": [
    "B_jup"
   ]
  },
  {
   "cell_type": "markdown",
   "metadata": {},
   "source": [
    "となる。太陽系の値は改めて関数least_squaresで計算するとわかるように"
   ]
  },
  {
   "cell_type": "code",
   "execution_count": 31,
   "metadata": {},
   "outputs": [
    {
     "name": "stdout",
     "output_type": "stream",
     "text": [
      "-0.00010395537604497491\n"
     ]
    }
   ],
   "source": [
    "A_sun, B_sun = least_squares(np.log10(P), np.log10(a)) # a, Pは最初の方で定義した\n",
    "print (B_sun)"
   ]
  },
  {
   "cell_type": "markdown",
   "metadata": {},
   "source": [
    "だったので、木星と太陽の質量比はおおよそ"
   ]
  },
  {
   "cell_type": "code",
   "execution_count": 32,
   "metadata": {},
   "outputs": [
    {
     "data": {
      "text/plain": [
       "0.0009558406002860499"
      ]
     },
     "execution_count": 32,
     "metadata": {},
     "output_type": "execute_result"
    }
   ],
   "source": [
    "10**(3*(B_jup - B_sun))"
   ]
  },
  {
   "cell_type": "markdown",
   "metadata": {},
   "source": [
    "と見積もれる。つまり木星の質量は太陽の約1/1000倍である。ちなみに、木星の半径は太陽の1/10（つまり体積も1/1000）なので、平均密度は同程度の値になっている。"
   ]
  },
  {
   "cell_type": "code",
   "execution_count": null,
   "metadata": {},
   "outputs": [],
   "source": []
  }
 ],
 "metadata": {
  "colab": {
   "provenance": []
  },
  "kernelspec": {
   "display_name": "jax",
   "language": "python",
   "name": "python3"
  },
  "language_info": {
   "codemirror_mode": {
    "name": "ipython",
    "version": 3
   },
   "file_extension": ".py",
   "mimetype": "text/x-python",
   "name": "python",
   "nbconvert_exporter": "python",
   "pygments_lexer": "ipython3",
   "version": "3.10.12"
  }
 },
 "nbformat": 4,
 "nbformat_minor": 1
}
