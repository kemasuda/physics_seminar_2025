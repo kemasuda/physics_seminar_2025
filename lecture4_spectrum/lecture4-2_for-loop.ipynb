{
 "cells": [
  {
   "cell_type": "markdown",
   "id": "5dc4f5bf",
   "metadata": {},
   "source": [
    "## for文"
   ]
  },
  {
   "cell_type": "code",
   "execution_count": 1,
   "id": "7babd624",
   "metadata": {},
   "outputs": [],
   "source": [
    "# 必要なパッケージのインポート\n",
    "import numpy as np\n",
    "import matplotlib.pyplot as plt"
   ]
  },
  {
   "cell_type": "markdown",
   "id": "f001558c",
   "metadata": {},
   "source": [
    "同じような処理を繰り返し行うには [for文](https://utokyo-ipp.github.io/3/3-2.html#) を使うと便利である。例えば配列"
   ]
  },
  {
   "cell_type": "code",
   "execution_count": 2,
   "id": "f0b94958",
   "metadata": {},
   "outputs": [],
   "source": [
    "a = np.array([0, 1, 2, 3, 4])"
   ]
  },
  {
   "cell_type": "markdown",
   "id": "b2688312",
   "metadata": {},
   "source": [
    "に対し、"
   ]
  },
  {
   "cell_type": "code",
   "execution_count": 3,
   "id": "229fdc5a",
   "metadata": {},
   "outputs": [
    {
     "name": "stdout",
     "output_type": "stream",
     "text": [
      "0\n",
      "1\n",
      "2\n",
      "3\n",
      "4\n"
     ]
    }
   ],
   "source": [
    "for i in a:\n",
    "    print(i)"
   ]
  },
  {
   "cell_type": "markdown",
   "id": "dfa7b1fd",
   "metadata": {},
   "source": [
    "とすると、配列aの各要素をprintできる。セミコロンと字下げは4-1でやった関数の場合と同じ形であることに注意しよう。ここでaの中身を順番にiに入れて、字下げした部分の操作が実行される。"
   ]
  },
  {
   "cell_type": "markdown",
   "id": "e986d05e",
   "metadata": {},
   "source": [
    "普通は上のような操作はPythonの組み込み関数である [range](https://utokyo-ipp.github.io/3/3-2.html#range) を使って以下のように書く:"
   ]
  },
  {
   "cell_type": "code",
   "execution_count": 4,
   "id": "c6b046a1",
   "metadata": {},
   "outputs": [
    {
     "name": "stdout",
     "output_type": "stream",
     "text": [
      "0\n",
      "1\n",
      "2\n",
      "3\n",
      "4\n"
     ]
    }
   ],
   "source": [
    "for i in range(5):\n",
    "    print(i)"
   ]
  },
  {
   "cell_type": "markdown",
   "id": "76665b17",
   "metadata": {},
   "source": [
    "こうするとさっきのように a を定義しなくても書ける。rangeの引数はiの個数であり、最初は0から始まることに注意しよう。これを使うと、例えば0から10までの和は"
   ]
  },
  {
   "cell_type": "code",
   "execution_count": 5,
   "id": "e881f40c",
   "metadata": {},
   "outputs": [
    {
     "name": "stdout",
     "output_type": "stream",
     "text": [
      "55\n"
     ]
    }
   ],
   "source": [
    "sum = 0\n",
    "for i in range(11):\n",
    "    sum += i # sum = sum + i と同じ\n",
    "print(sum)"
   ]
  },
  {
   "cell_type": "markdown",
   "id": "ef3b2c7c",
   "metadata": {},
   "source": [
    "のように書ける。"
   ]
  },
  {
   "cell_type": "markdown",
   "id": "da7d0ff8",
   "metadata": {},
   "source": [
    "この操作は関数に含めることもできる。例えば0からNまでの整数の和を与える関数は"
   ]
  },
  {
   "cell_type": "code",
   "execution_count": 6,
   "id": "15db7363",
   "metadata": {},
   "outputs": [],
   "source": [
    "def sum_n(N):\n",
    "    sum = 0\n",
    "    for i in range(N+1):\n",
    "        sum += i \n",
    "    return sum"
   ]
  },
  {
   "cell_type": "markdown",
   "id": "878c8093",
   "metadata": {},
   "source": [
    "などとできる。defの中で字下げして、その後forの中ではもう一度字下げする必要があることに注意。このようにPythonでは字下げも重要なプログラムの一部である。"
   ]
  },
  {
   "cell_type": "code",
   "execution_count": 7,
   "id": "f79643d6",
   "metadata": {},
   "outputs": [
    {
     "data": {
      "text/plain": [
       "(55, 50005000)"
      ]
     },
     "execution_count": 7,
     "metadata": {},
     "output_type": "execute_result"
    }
   ],
   "source": [
    "sum_n(10), sum_n(10000)"
   ]
  },
  {
   "cell_type": "markdown",
   "id": "63b59e30",
   "metadata": {},
   "source": [
    "for文はあらゆる場所で使える。例えば[lecture2-2.ipynb](https://github.com/kemasuda/physics_seminar_2025/blob/main/lecture2_tutorial/lecture2-2_plot.ipynb)で作成した2次関数のグラフに点を追加したければ"
   ]
  },
  {
   "cell_type": "code",
   "execution_count": 8,
   "id": "e433e67f",
   "metadata": {},
   "outputs": [],
   "source": [
    "x = np.linspace(-5, 5, 100) # -5から5まで等間隔で100要素の配列を定義\n",
    "y = 2 * x**2 + 1 "
   ]
  },
  {
   "cell_type": "code",
   "execution_count": 9,
   "id": "506c3221",
   "metadata": {},
   "outputs": [
    {
     "data": {
      "image/png": "[encoded data removed]",
      "text/plain": [
       "<Figure size 640x480 with 1 Axes>"
      ]
     },
     "metadata": {},
     "output_type": "display_data"
    }
   ],
   "source": [
    "plt.xlim(-5, 5) # xの範囲を-5から5に制限した\n",
    "plt.xlabel(\"x\") # x軸のラベル\n",
    "plt.ylabel(\"y\") # y軸のラベル\n",
    "plt.plot(x, y)\n",
    "# x=-4, -2, 0, 2, 4にfor文で点を追加\n",
    "for x_point in [-4, -2, 0, 2, 4]:\n",
    "    plt.plot(x_point, 2 * x_point**2 + 1, 'o'); # 色を指定しないと勝手に毎回色が変わる"
   ]
  },
  {
   "cell_type": "markdown",
   "id": "521188cf",
   "metadata": {},
   "source": [
    "とできる。"
   ]
  },
  {
   "cell_type": "markdown",
   "id": "f9927ca8",
   "metadata": {},
   "source": []
  }
 ],
 "metadata": {
  "kernelspec": {
   "display_name": "jax4",
   "language": "python",
   "name": "python3"
  },
  "language_info": {
   "codemirror_mode": {
    "name": "ipython",
    "version": 3
   },
   "file_extension": ".py",
   "mimetype": "text/x-python",
   "name": "python",
   "nbconvert_exporter": "python",
   "pygments_lexer": "ipython3",
   "version": "3.12.5"
  }
 },
 "nbformat": 4,
 "nbformat_minor": 5
}
