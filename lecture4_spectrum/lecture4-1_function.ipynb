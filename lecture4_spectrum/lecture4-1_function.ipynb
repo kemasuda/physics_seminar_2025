{
 "cells": [
  {
   "cell_type": "markdown",
   "id": "5dc4f5bf",
   "metadata": {},
   "source": [
    "## 関数"
   ]
  },
  {
   "cell_type": "code",
   "execution_count": 1,
   "id": "7babd624",
   "metadata": {},
   "outputs": [],
   "source": [
    "# 必要なパッケージのインポート\n",
    "import numpy as np"
   ]
  },
  {
   "cell_type": "markdown",
   "id": "f001558c",
   "metadata": {},
   "source": [
    "これまですでに色々な関数を使ってきた。例えば配列"
   ]
  },
  {
   "cell_type": "code",
   "execution_count": 2,
   "id": "229fdc5a",
   "metadata": {},
   "outputs": [],
   "source": [
    "a = np.array([1, 2, 3, 4, 5])"
   ]
  },
  {
   "cell_type": "markdown",
   "id": "435751f9",
   "metadata": {},
   "source": [
    "に対し、関数 len はその長さを与える："
   ]
  },
  {
   "cell_type": "code",
   "execution_count": 3,
   "id": "15c4d99b",
   "metadata": {},
   "outputs": [
    {
     "data": {
      "text/plain": [
       "5"
      ]
     },
     "execution_count": 3,
     "metadata": {},
     "output_type": "execute_result"
    }
   ],
   "source": [
    "len(a)"
   ]
  },
  {
   "cell_type": "markdown",
   "id": "355e1aed",
   "metadata": {},
   "source": [
    "numpy の関数 sum は和を計算する関数だった："
   ]
  },
  {
   "cell_type": "code",
   "execution_count": 4,
   "id": "ee8f361b",
   "metadata": {},
   "outputs": [
    {
     "data": {
      "text/plain": [
       "15"
      ]
     },
     "execution_count": 4,
     "metadata": {},
     "output_type": "execute_result"
    }
   ],
   "source": [
    "np.sum(a)"
   ]
  },
  {
   "cell_type": "markdown",
   "id": "769b4b95",
   "metadata": {},
   "source": [
    "このような関数は自分で定義することもできる。例えば半径 $r$ の円の面積を計算する関数は"
   ]
  },
  {
   "cell_type": "code",
   "execution_count": 5,
   "id": "d64b4958",
   "metadata": {},
   "outputs": [],
   "source": [
    "def menseki(r):\n",
    "    S = np.pi * r * r # np.piは円周率\n",
    "    return S"
   ]
  },
  {
   "cell_type": "markdown",
   "id": "3051b763",
   "metadata": {},
   "source": [
    "のように書くことができる。ここで\n",
    "* defに続くmensekiが関数名; **defの後は1文字空ける**\n",
    "* 続く()の中が引数（関数に入力する値）; **この後には必ずコロン:をつける**\n",
    "* S=... 以下が本体; **ここは字下げ（インデント）する（tabキーを使えば良い）**\n",
    "* return の後が返値（関数が出力する値）\n",
    "\n",
    "である。[副教材3.3](https://utokyo-ipp.github.io/3/3-3.html)も参照。これを使うと"
   ]
  },
  {
   "cell_type": "code",
   "execution_count": 6,
   "id": "bd7b3f3c",
   "metadata": {},
   "outputs": [
    {
     "data": {
      "text/plain": [
       "12.566370614359172"
      ]
     },
     "execution_count": 6,
     "metadata": {},
     "output_type": "execute_result"
    }
   ],
   "source": [
    "menseki(2)"
   ]
  },
  {
   "cell_type": "markdown",
   "id": "adfdf815",
   "metadata": {},
   "source": [
    "のように計算できる。引数や返値は複数あっても問題ない。例えば"
   ]
  },
  {
   "cell_type": "code",
   "execution_count": 7,
   "id": "69c1ac08",
   "metadata": {},
   "outputs": [],
   "source": [
    "def wa_and_sa(x, y):\n",
    "    wa = x + y\n",
    "    sa = x - y\n",
    "    return wa, sa"
   ]
  },
  {
   "cell_type": "markdown",
   "id": "721265df",
   "metadata": {},
   "source": [
    "はx,y を引数としてその和と差を返す関数である。"
   ]
  },
  {
   "cell_type": "code",
   "execution_count": 8,
   "id": "c5ad4cc4",
   "metadata": {},
   "outputs": [
    {
     "data": {
      "text/plain": [
       "(5, -1)"
      ]
     },
     "execution_count": 8,
     "metadata": {},
     "output_type": "execute_result"
    }
   ],
   "source": [
    "wa, sa = wa_and_sa(2, 3)\n",
    "wa, sa"
   ]
  },
  {
   "cell_type": "markdown",
   "id": "c14b5261",
   "metadata": {},
   "source": [
    "のように使える。引数や返値（returnの後）がない関数も作れる。例えば"
   ]
  },
  {
   "cell_type": "code",
   "execution_count": 9,
   "id": "16e531dc",
   "metadata": {},
   "outputs": [],
   "source": [
    "def print_hello():\n",
    "    print(\"Hello.\")"
   ]
  },
  {
   "cell_type": "markdown",
   "id": "12e877da",
   "metadata": {},
   "source": [
    "は中のprint文（文字を表示する関数）だけを実行する。"
   ]
  },
  {
   "cell_type": "code",
   "execution_count": 10,
   "id": "5fb9fdd7",
   "metadata": {},
   "outputs": [
    {
     "name": "stdout",
     "output_type": "stream",
     "text": [
      "Hello.\n"
     ]
    }
   ],
   "source": [
    "print_hello()"
   ]
  },
  {
   "cell_type": "markdown",
   "id": "d6598f9e",
   "metadata": {},
   "source": [
    "関数の中で定義した変数は、関数の中でのみ利用可能であり、外からは\"見えない\"。例えば wa_and_sa の中でx,yを使っているが"
   ]
  },
  {
   "cell_type": "code",
   "execution_count": 11,
   "id": "e6b207dd",
   "metadata": {},
   "outputs": [
    {
     "ename": "NameError",
     "evalue": "name 'x' is not defined",
     "output_type": "error",
     "traceback": [
      "\u001b[0;31m---------------------------------------------------------------------------\u001b[0m",
      "\u001b[0;31mNameError\u001b[0m                                 Traceback (most recent call last)",
      "Cell \u001b[0;32mIn[11], line 1\u001b[0m\n\u001b[0;32m----> 1\u001b[0m \u001b[43mx\u001b[49m\n",
      "\u001b[0;31mNameError\u001b[0m: name 'x' is not defined"
     ]
    }
   ],
   "source": [
    "x"
   ]
  },
  {
   "cell_type": "markdown",
   "id": "63b59e30",
   "metadata": {},
   "source": [
    "は関数の外では未定義でエラーになる。このような変数をローカル変数という。これに対し、プログラム全体でどこでも参照できる変数はグローバル変数という。"
   ]
  }
 ],
 "metadata": {
  "kernelspec": {
   "display_name": "jax4",
   "language": "python",
   "name": "python3"
  },
  "language_info": {
   "codemirror_mode": {
    "name": "ipython",
    "version": 3
   },
   "file_extension": ".py",
   "mimetype": "text/x-python",
   "name": "python",
   "nbconvert_exporter": "python",
   "pygments_lexer": "ipython3",
   "version": "3.12.5"
  }
 },
 "nbformat": 4,
 "nbformat_minor": 5
}
