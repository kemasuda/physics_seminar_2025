{
  "cells": [
    {
      "cell_type": "markdown",
      "id": "fd7848cc",
      "metadata": {
        "id": "fd7848cc"
      },
      "source": [
        "## 第8回課題: ハッブル-ルメートルの法則\n",
        "\n",
        "- [Calán/Tololo Supernova Survey](https://en.wikipedia.org/wiki/Calán/Tololo_Survey)の超新星データ\n",
        "\n",
        "- [Perlmutter et al. (1999)](https://iopscience.iop.org/article/10.1086/307221) から取得"
      ]
    },
    {
      "cell_type": "code",
      "execution_count": 1,
      "id": "bddc1def",
      "metadata": {
        "id": "bddc1def"
      },
      "outputs": [],
      "source": [
        "import numpy as np\n",
        "import matplotlib.pyplot as plt\n",
        "import pandas as pd"
      ]
    },
    {
      "cell_type": "code",
      "execution_count": 2,
      "id": "39853f56",
      "metadata": {
        "id": "39853f56"
      },
      "outputs": [
        {
          "name": "stdout",
          "output_type": "stream",
          "text": [
            "Requirement already satisfied: japanize_matplotlib in /Users/k_masuda/.pyenv/versions/anaconda3-5.3.1/envs/jax/lib/python3.10/site-packages (1.1.3)\n",
            "Requirement already satisfied: matplotlib in /Users/k_masuda/.pyenv/versions/anaconda3-5.3.1/envs/jax/lib/python3.10/site-packages (from japanize_matplotlib) (3.8.0)\n",
            "Requirement already satisfied: contourpy>=1.0.1 in /Users/k_masuda/.pyenv/versions/anaconda3-5.3.1/envs/jax/lib/python3.10/site-packages (from matplotlib->japanize_matplotlib) (1.2.0)\n",
            "Requirement already satisfied: cycler>=0.10 in /Users/k_masuda/.pyenv/versions/anaconda3-5.3.1/envs/jax/lib/python3.10/site-packages (from matplotlib->japanize_matplotlib) (0.11.0)\n",
            "Requirement already satisfied: fonttools>=4.22.0 in /Users/k_masuda/.pyenv/versions/anaconda3-5.3.1/envs/jax/lib/python3.10/site-packages (from matplotlib->japanize_matplotlib) (4.51.0)\n",
            "Requirement already satisfied: kiwisolver>=1.0.1 in /Users/k_masuda/.pyenv/versions/anaconda3-5.3.1/envs/jax/lib/python3.10/site-packages (from matplotlib->japanize_matplotlib) (1.4.4)\n",
            "Requirement already satisfied: numpy<2,>=1.21 in /Users/k_masuda/.pyenv/versions/anaconda3-5.3.1/envs/jax/lib/python3.10/site-packages (from matplotlib->japanize_matplotlib) (1.26.3)\n",
            "Requirement already satisfied: packaging>=20.0 in /Users/k_masuda/.pyenv/versions/anaconda3-5.3.1/envs/jax/lib/python3.10/site-packages (from matplotlib->japanize_matplotlib) (24.1)\n",
            "Requirement already satisfied: pillow>=6.2.0 in /Users/k_masuda/.pyenv/versions/anaconda3-5.3.1/envs/jax/lib/python3.10/site-packages (from matplotlib->japanize_matplotlib) (10.4.0)\n",
            "Requirement already satisfied: pyparsing>=2.3.1 in /Users/k_masuda/.pyenv/versions/anaconda3-5.3.1/envs/jax/lib/python3.10/site-packages (from matplotlib->japanize_matplotlib) (3.0.9)\n",
            "Requirement already satisfied: python-dateutil>=2.7 in /Users/k_masuda/.pyenv/versions/anaconda3-5.3.1/envs/jax/lib/python3.10/site-packages (from matplotlib->japanize_matplotlib) (2.9.0.post0)\n",
            "Requirement already satisfied: six>=1.5 in /Users/k_masuda/.pyenv/versions/anaconda3-5.3.1/envs/jax/lib/python3.10/site-packages (from python-dateutil>=2.7->matplotlib->japanize_matplotlib) (1.16.0)\n"
          ]
        }
      ],
      "source": [
        "# 日本語も使えるようにしておく。\n",
        "!pip install japanize_matplotlib\n",
        "import japanize_matplotlib"
      ]
    },
    {
      "cell_type": "markdown",
      "id": "94bbe913",
      "metadata": {
        "id": "94bbe913"
      },
      "source": [
        "### 課題1: データの読み込み"
      ]
    },
    {
      "cell_type": "markdown",
      "id": "850f5e48",
      "metadata": {},
      "source": [
        "supernovae.txt から、列\"z\"と列\"m\"を配列として取り出そう。zは赤方偏移、mは最大光度のときの超新星の見かけの等級（見かけの明るさを対数で表す尺度; 以下参照）を表す。"
      ]
    },
    {
      "cell_type": "code",
      "execution_count": 3,
      "id": "4d38ba85",
      "metadata": {},
      "outputs": [],
      "source": [
        "data = pd.read_csv(\"supernovae.txt\") # データの読み込み\n",
        "z = np.array(data[\"z\"]) # 赤方偏移\n",
        "m = np.array(data[\"m\"]) # 最大光度のときの超新星の見かけの等級"
      ]
    },
    {
      "cell_type": "markdown",
      "id": "24c5cb19",
      "metadata": {
        "id": "24c5cb19"
      },
      "source": [
        "### 課題2: 赤方偏移$z$を後退速度$v$に換算"
      ]
    },
    {
      "cell_type": "markdown",
      "id": "c6263915",
      "metadata": {
        "id": "c6263915"
      },
      "source": [
        "ここに含まれる比較的近傍の超新星については、赤方偏移$z=\\Delta\\lambda/\\lambda$（波長の伸びた割合）と後退速度$v$の間に\n",
        "$$\n",
        "    z = {v\\over c}\n",
        "$$\n",
        "の関係がある。ただし$c$は真空中の光速度で、値は$c\\approx 3\\times10^5\\,\\mathrm{km/s}$である。この関係を用いて、$z$を後退速度$v$（単位は$\\mathrm{km/s}$）に換算しよう。"
      ]
    },
    {
      "cell_type": "code",
      "execution_count": 4,
      "id": "jC-OC1JQW50x",
      "metadata": {
        "id": "jC-OC1JQW50x"
      },
      "outputs": [],
      "source": [
        "c = 3e5 # km/s\n",
        "v = c * z # km/s単位の速度"
      ]
    },
    {
      "cell_type": "code",
      "execution_count": 5,
      "id": "b0d8a230",
      "metadata": {},
      "outputs": [
        {
          "data": {
            "text/plain": [
              "array([ 9000., 15000.,  7800., 22500.,  7800.,  4200., 30300.,  6000.,\n",
              "       10800., 13500., 12900., 23700., 18900., 21300., 15600., 15000.])"
            ]
          },
          "execution_count": 5,
          "metadata": {},
          "output_type": "execute_result"
        }
      ],
      "source": [
        "v"
      ]
    },
    {
      "cell_type": "markdown",
      "id": "bf0cbab0",
      "metadata": {
        "id": "bf0cbab0"
      },
      "source": [
        "### 課題3: 見かけの等級$m$から距離$d$を推定"
      ]
    },
    {
      "cell_type": "markdown",
      "id": "078ba2e1",
      "metadata": {},
      "source": [
        "データ中の見かけの等級$m$は、天体の見かけの明るさ$f$（正確には単位時間・単位面積あたりに地球に届くエネルギー）を対数を使って表す尺度である。必ずしも対数を使う必然性はないが、天文学では歴史的な背景からよく用いられる。\n",
        "\n",
        "天体の見かけの明るさと見かけの等級の関係は、ある定数$C$を用いて\n",
        "$$\n",
        "m = C - 2.5\\log_{10} f \n",
        "$$\n",
        "で与えられる。$C$の値はここでは気にしなくて良い。たとえば$f$が100倍増える（明るくなる）と、$\\log_{10}f$は2増えるので、等級$m$は5減る。つまり、**等級は明るい方が小さい**ことに注意する。$f$について解くと、\n",
        "$$\n",
        "\\log_{10} f = 0.4(C-m)\n",
        "$$\n",
        "より\n",
        "$$\n",
        "f = 10^{0.4(C-m)} = k10^{-0.4m}, \\quad k=10^{0.4C}\n",
        "$$\n",
        "となることがわかる（$k$は定数）。以下では最右辺の関係式を用いる。\n",
        "\n",
        "このデータ中のIa型超新星は全て、距離$D=10\\,\\mathrm{pc}$（年周視差が$0.1$秒角になる距離; おおよそ$3.1\\times10^{14}\\,\\mathrm{km}$）に置いたとき、見かけの等級がおおよそ$M=-19.3$になることが知られている（つまり真の明るさがわかっている）。したがって、距離$D$での見かけの明るさを$F$とすると\n",
        "$$\n",
        "F = k10^{-0.4M}, \\quad M=-19.3\n",
        "$$\n",
        "である。\n",
        "\n",
        "この事実を用いて、データで与えられたIa型超新星の$m$から距離$d$を推定しよう。見かけの明るさ$f$は距離の2乗に反比例する（逆二乗の法則）から\n",
        "$$\n",
        "f = F\\cdot \\left(D \\over d\\right)^2\n",
        "$$\n",
        "となる。これを$d$について解くと、\n",
        "$$\n",
        "\\left(d \\over D\\right)^2 = {F \\over f} \\quad \\to \\quad d = D\\sqrt{F \\over f}\n",
        "$$\n",
        "となる。よって上で導いた$f$, $F$の式から、\n",
        "$$\n",
        "    d = D\\sqrt{F\\over f} = D \\cdot \\left[10^{-0.4(M-m)}\\ \\ \\right]^{1/2} = D \\cdot 10^{-0.2(M-m)}\\ = D \\cdot 10^{0.2(m-M)}\n",
        "$$\n",
        "となる。ここで$D=10\\,\\mathrm{pc}$, $M=-19.3$である。"
      ]
    },
    {
      "cell_type": "markdown",
      "id": "a2468316",
      "metadata": {
        "id": "a2468316"
      },
      "source": [
        "最後の式を用いて、$m$の値からデータ中のIa型超新星の距離$d$を求めよう。$\\,\\mathrm{pc}$単位だと数が大きくなるので、単位は$\\,\\mathrm{Mpc}=10^6\\,\\mathrm{pc}$にしよう。"
      ]
    },
    {
      "cell_type": "code",
      "execution_count": 6,
      "id": "5dd5bdfd",
      "metadata": {
        "id": "5dd5bdfd"
      },
      "outputs": [],
      "source": [
        "M = -19.3\n",
        "d_pc = 10 * 10**(0.2 * (m - M)) # pc単位での距離\n",
        "d_Mpc = d_pc / 1e6 # Mpc単位に変換"
      ]
    },
    {
      "cell_type": "markdown",
      "id": "bceb2d6b",
      "metadata": {
        "id": "bceb2d6b"
      },
      "source": [
        "### 課題4: 後退速度$v$と距離$d$の関係（ハッブル-ルメートルの法則）"
      ]
    },
    {
      "cell_type": "markdown",
      "id": "ebb704fe",
      "metadata": {
        "id": "ebb704fe"
      },
      "source": [
        "上で求めた$v$ ($\\mathrm{km/s}$)を縦軸、$d$ ($\\mathrm{Mpc}$)を横軸にしてデータを点でプロットしてみよう。軸のラベルも入れること。"
      ]
    },
    {
      "cell_type": "code",
      "execution_count": 7,
      "id": "mrNOMjPsW_3F",
      "metadata": {
        "id": "mrNOMjPsW_3F"
      },
      "outputs": [
        {
          "data": {
            "image/png": "[encoded data removed]",
            "text/plain": [
              "<Figure size 640x480 with 1 Axes>"
            ]
          },
          "metadata": {},
          "output_type": "display_data"
        }
      ],
      "source": [
        "plt.plot(d_Mpc, v, \"o\", label=\"超新星のデータ\")\n",
        "plt.xlabel(\"距離$d$ (Mpc)\")\n",
        "plt.ylabel(\"後退速度$v$ (km/s)\")\n",
        "plt.legend(loc=\"best\");"
      ]
    },
    {
      "cell_type": "markdown",
      "id": "2ed2de1d",
      "metadata": {
        "id": "2ed2de1d"
      },
      "source": [
        "比例関係になっていそうなのがわかるはずである。"
      ]
    },
    {
      "cell_type": "markdown",
      "id": "430bb99b",
      "metadata": {},
      "source": [
        "### 課題5: ハッブル定数の計算"
      ]
    },
    {
      "cell_type": "markdown",
      "id": "JTUjX9ijXCEp",
      "metadata": {
        "id": "JTUjX9ijXCEp"
      },
      "source": [
        "最小二乗法を用いて上のグラフの傾き$H_0$（ハッブル定数）を km/s/Mpc 単位で求めてみよう。ハッブル定数の定義の式$v=H_0 d$ではy切片が0に固定されているが、ここでは気にしなくてよい（もし余裕があれば、$y=ax$を仮定したときのy方向のずれの2乗和 $\\sum_i (y_i - ax_i)^2$ の$a$での微分が0となる条件から、この和を最小にする$a$を求めてもよい）。\n",
        "\n",
        "最小二乗法で得られた直線とデータを共にプロットし、データが直線に乗っていることを確認しよう。"
      ]
    },
    {
      "cell_type": "markdown",
      "id": "b1a16bfe",
      "metadata": {},
      "source": [
        "(1) [lecture3_kepler3.ipynb](https://github.com/kemasuda/physics_seminar_2025/blob/main/lecture3_kepler3/lecture3_kepler3.ipynb)で定義した関数least_squaresを使う場合"
      ]
    },
    {
      "cell_type": "code",
      "execution_count": 8,
      "id": "acf9b8f6",
      "metadata": {},
      "outputs": [],
      "source": [
        "def least_squares(x, y):\n",
        "    \"\"\"配列x, yから、最小二乗法（least squares）で傾きA, y切片Bを計算する関数\"\"\"\n",
        "    X = np.sum(x)\n",
        "    Y = np.sum(y)\n",
        "    S = np.sum(x*x)\n",
        "    C = np.sum(x*y)\n",
        "    N = len(x)\n",
        "\n",
        "    den = N * S - X * X # 分母（denominator）は共通なので一度だけ計算した\n",
        "    A = (N * C - X * Y) / den \n",
        "    B = (S * Y - C * X) / den\n",
        "\n",
        "    return A, B"
      ]
    },
    {
      "cell_type": "code",
      "execution_count": 9,
      "id": "46a1e87d",
      "metadata": {},
      "outputs": [
        {
          "name": "stdout",
          "output_type": "stream",
          "text": [
            "60.998894424585934\n"
          ]
        }
      ],
      "source": [
        "H0_1, b_1 = least_squares(d_Mpc, v)\n",
        "print(H0_1)"
      ]
    },
    {
      "cell_type": "markdown",
      "id": "cf297036",
      "metadata": {},
      "source": [
        "(2) $y=ax$を仮定したときのy方向のずれの2乗和 $\\sum_i (y_i - ax_i)^2$ を最小にする場合\n",
        "\n",
        "この和を$S$とおくと、\n",
        "$$\n",
        "{\\mathrm{d}S \\over \\mathrm{d}a} = \\sum_{i=1}^N -2x_i(y_i - ax_i) = 2 a \\sum_{i=1}^N x_i^2 - 2 \\sum_{i=1}^N x_i y_i\n",
        "$$\n",
        "である。よって$S$を最小にする$a$は、$\\mathrm{d}S/\\mathrm{d}a=0$より\n",
        "$$\n",
        "a = {\\sum_{i=1}^N x_i y_i \\over \\sum_{i=1}^N x_i^2}\n",
        "$$\n",
        "となる。"
      ]
    },
    {
      "cell_type": "code",
      "execution_count": 10,
      "id": "d8ce31fb",
      "metadata": {},
      "outputs": [
        {
          "name": "stdout",
          "output_type": "stream",
          "text": [
            "63.36191436037001\n"
          ]
        }
      ],
      "source": [
        "H0 = np.sum(d_Mpc * v) / np.sum(d_Mpc**2)\n",
        "print(H0)"
      ]
    },
    {
      "cell_type": "markdown",
      "id": "f14c0304",
      "metadata": {},
      "source": [
        "(1)ではy切片（b_1）が0になっていなかったので、(2)の方法でやると傾きが少し異なる。両方プロットしてみよう。"
      ]
    },
    {
      "cell_type": "code",
      "execution_count": 11,
      "id": "b7e5d7c3",
      "metadata": {},
      "outputs": [
        {
          "data": {
            "image/png": "[encoded data removed]",
            "text/plain": [
              "<Figure size 640x480 with 1 Axes>"
            ]
          },
          "metadata": {},
          "output_type": "display_data"
        }
      ],
      "source": [
        "plt.plot(d_Mpc, v, \"o\", label=\"超新星のデータ\", zorder=1000)\n",
        "plt.xlabel(\"距離$d$ (Mpc)\")\n",
        "plt.ylabel(\"後退速度$v$ (km/s)\")\n",
        "x = np.linspace(0, 600, 100) # 直線をプロットするための配列を定義\n",
        "plt.plot(x, H0_1 * x + b_1, label=\"(1)の方法\", color=\"gray\", ls='dashed')\n",
        "plt.plot(x, H0 * x, label='(2)の方法')\n",
        "plt.xlim(0, 600)\n",
        "plt.ylim(0, 40000)\n",
        "plt.legend(loc=\"best\");"
      ]
    },
    {
      "cell_type": "markdown",
      "id": "77e60108",
      "metadata": {},
      "source": [
        "以下では(2)の結果を使う。"
      ]
    },
    {
      "cell_type": "markdown",
      "id": "c88fd53e",
      "metadata": {
        "id": "c88fd53e"
      },
      "source": [
        "### 課題6: 宇宙の年齢の概算"
      ]
    },
    {
      "cell_type": "markdown",
      "id": "edb63ef6",
      "metadata": {
        "id": "edb63ef6"
      },
      "source": [
        "上で求めた$H_0$の単位は$\\mathrm{km/s/Mpc}$になっている。$1\\,\\mathrm{pc}$は年周視差が$1''=(1/3600)\\,\\mathrm{deg}$（degは度）になる距離だから、\n",
        "$$\n",
        "1\\,\\mathrm{pc} = {1\\,\\mathrm{au} \\over (1/3600)\\,\\mathrm{deg}}\n",
        "$$\n",
        "である。まず$1\\,\\mathrm{au}=1.5\\times10^8\\,\\mathrm{km}$として$1\\,\\mathrm{pc}$を$\\mathrm{km}$単位に換算し（degをラジアンに直す必要があることに注意）、$\\mathrm{km/Mpc}$の値を計算しよう。\n",
        "\n",
        "さらにその結果を用いて、$H_0$の逆数 $1/H_0$（これは時間になる）を億年の単位で求めよう。第8回の講義で触れたように、これは宇宙のおおよその年齢を与える。"
      ]
    },
    {
      "cell_type": "markdown",
      "id": "7af1c98c",
      "metadata": {},
      "source": [
        "解説：上の結果から、\n",
        "$$\n",
        "t_\\mathrm{H} = {1 \\over H_0} = {1\\over 63.36...}\\,\\mathrm{s}\\cdot \\mathrm{Mpc\\over km}\n",
        "$$\n",
        "で、Mpcとkmはどちらも長さだからこれは時間になっている。Mpcをkm単位で表せばこの値が秒単位で得られる。"
      ]
    },
    {
      "cell_type": "code",
      "execution_count": 12,
      "id": "187b728a",
      "metadata": {},
      "outputs": [],
      "source": [
        "pc_in_km = 1.5e8 / (1/3600 * np.pi / 180.) # pcをkm単位で表す（つまりpc/km）\n",
        "Mpc_in_km = 1e6 * pc_in_km #　Mpcをkm単位で表す（つまりMpc/km）"
      ]
    },
    {
      "cell_type": "markdown",
      "id": "e6612cc1",
      "metadata": {},
      "source": [
        "これより$t_\\mathrm{H}$は秒単位で"
      ]
    },
    {
      "cell_type": "code",
      "execution_count": 13,
      "id": "16dc02e6",
      "metadata": {},
      "outputs": [],
      "source": [
        "tH_sec = 1. / H0 * Mpc_in_km # 秒単位"
      ]
    },
    {
      "cell_type": "markdown",
      "id": "058f6836",
      "metadata": {},
      "source": [
        "これを年にするには1年の秒数で割ればよい。"
      ]
    },
    {
      "cell_type": "code",
      "execution_count": 14,
      "id": "7aace3bd",
      "metadata": {},
      "outputs": [],
      "source": [
        "year_in_sec = 365.25 * 86400"
      ]
    },
    {
      "cell_type": "code",
      "execution_count": 15,
      "id": "1ded319c",
      "metadata": {},
      "outputs": [],
      "source": [
        "tH_yr = tH_sec / year_in_sec"
      ]
    },
    {
      "cell_type": "code",
      "execution_count": 16,
      "id": "c8765760",
      "metadata": {},
      "outputs": [
        {
          "data": {
            "text/plain": [
              "15473342368.084396"
            ]
          },
          "execution_count": 16,
          "metadata": {},
          "output_type": "execute_result"
        }
      ],
      "source": [
        "tH_yr"
      ]
    },
    {
      "cell_type": "markdown",
      "id": "d6899fe0",
      "metadata": {},
      "source": [
        "つまりこのデータから求めた$1/H_0$は約$1.5\\times 10^9$年（$150$億年）になる。これはおおよその宇宙の年齢と考えられ、[ハッブル時間](https://astro-dic.jp/hubble-time/)と呼ばれる。実際、ハッブル-ルメートルの法則$v=H_0 d$を用いて距離/速度を計算すると\n",
        "$$\n",
        "{d \\over v} = {d \\over H_0 d} = {1 \\over H_0}\n",
        "$$\n",
        "となっている。つまり、$v$がずっと一定なら、時間$1/H_0$遡ると宇宙が一点に集まる。\n",
        "\n",
        "より現実的な宇宙膨張のモデルと最新のデータを用いて推定した宇宙年齢は上の値よりやや小さく138億年程度である。"
      ]
    }
  ],
  "metadata": {
    "colab": {
      "provenance": []
    },
    "kernelspec": {
      "display_name": "jax",
      "language": "python",
      "name": "python3"
    },
    "language_info": {
      "codemirror_mode": {
        "name": "ipython",
        "version": 3
      },
      "file_extension": ".py",
      "mimetype": "text/x-python",
      "name": "python",
      "nbconvert_exporter": "python",
      "pygments_lexer": "ipython3",
      "version": "3.10.13"
    }
  },
  "nbformat": 4,
  "nbformat_minor": 5
}
