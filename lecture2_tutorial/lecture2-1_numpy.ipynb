{
  "cells": [
    {
      "cell_type": "markdown",
      "metadata": {
        "id": "xqPzwH-Sicxl"
      },
      "source": [
        "# NumPy"
      ]
    },
    {
      "cell_type": "markdown",
      "metadata": {
        "id": "wDR1mb3Qicxn"
      },
      "source": [
        "Pythonでベクトルや行列といった配列の計算を効率よく行うには、NumPyライブラリを使うと便利である（[副教材5-3](https://utokyo-ipp.github.io/5/5-3.html)も参照）。標準ライブラリではないので以下のようにインポートして使う。"
      ]
    },
    {
      "cell_type": "code",
      "execution_count": 1,
      "metadata": {
        "id": "sM2OVExJicxo"
      },
      "outputs": [],
      "source": [
        "import numpy as np"
      ]
    },
    {
      "cell_type": "markdown",
      "metadata": {
        "id": "RZcen2dPicxp"
      },
      "source": [
        "as 以降はプログラム内で定義された略称（毎回numpyと書かなくてよくなる）なのでなんでもよいが、普通は np を使うのでそうしよう。"
      ]
    },
    {
      "cell_type": "markdown",
      "metadata": {
        "id": "zPQ5OhMdicxq"
      },
      "source": [
        "numpy で配列を作るには np.array() 関数を用いる。例えば"
      ]
    },
    {
      "cell_type": "code",
      "execution_count": 2,
      "metadata": {
        "id": "xLl_AVLiicxq"
      },
      "outputs": [],
      "source": [
        "a = np.array([1, 2, 3, 4, 5])"
      ]
    },
    {
      "cell_type": "markdown",
      "metadata": {
        "id": "mT5QSVBpicxq"
      },
      "source": [
        "とするとリスト [1,2,3,4,5] から numpyの配列（numpy.ndarray）が作れる。"
      ]
    },
    {
      "cell_type": "code",
      "execution_count": 3,
      "metadata": {
        "colab": {
          "base_uri": "https://localhost:8080/"
        },
        "id": "zv4XHEq3icxr",
        "outputId": "86c00cc9-2491-4524-b860-fd9d540d1b7b"
      },
      "outputs": [
        {
          "data": {
            "text/plain": [
              "array([1, 2, 3, 4, 5])"
            ]
          },
          "execution_count": 3,
          "metadata": {},
          "output_type": "execute_result"
        }
      ],
      "source": [
        "a"
      ]
    },
    {
      "cell_type": "markdown",
      "metadata": {
        "id": "bZKRIxsgicxr"
      },
      "source": [
        "リストと異なり、array()がついていることに注意。numpy.ndarray として定義するといろんな演算が簡単にできて便利である。例えば"
      ]
    },
    {
      "cell_type": "code",
      "execution_count": 4,
      "metadata": {
        "colab": {
          "base_uri": "https://localhost:8080/"
        },
        "id": "TdwW1TtPicxr",
        "outputId": "a0181e54-689c-4e9d-9aa1-edb7398a25d6"
      },
      "outputs": [
        {
          "data": {
            "text/plain": [
              "array([ 1,  4,  9, 16, 25])"
            ]
          },
          "execution_count": 4,
          "metadata": {},
          "output_type": "execute_result"
        }
      ],
      "source": [
        "a**2"
      ]
    },
    {
      "cell_type": "markdown",
      "metadata": {
        "id": "tw2ChoZ9icxs"
      },
      "source": [
        "は a の全要素を2乗した配列を与える。同様に、足し算"
      ]
    },
    {
      "cell_type": "code",
      "execution_count": 5,
      "metadata": {
        "colab": {
          "base_uri": "https://localhost:8080/"
        },
        "id": "j9st-Kcjicxs",
        "outputId": "bea18b89-3338-4711-b375-545539b4b141"
      },
      "outputs": [
        {
          "data": {
            "text/plain": [
              "array([2, 3, 4, 5, 6])"
            ]
          },
          "execution_count": 5,
          "metadata": {},
          "output_type": "execute_result"
        }
      ],
      "source": [
        "a+1"
      ]
    },
    {
      "cell_type": "markdown",
      "metadata": {},
      "source": [
        "や掛け算"
      ]
    },
    {
      "cell_type": "code",
      "execution_count": 6,
      "metadata": {
        "colab": {
          "base_uri": "https://localhost:8080/"
        },
        "id": "WYR3odR_icxs",
        "outputId": "1b403c8b-53ae-4f6a-f39e-973fd25afaf4"
      },
      "outputs": [
        {
          "data": {
            "text/plain": [
              "array([ 2,  4,  6,  8, 10])"
            ]
          },
          "execution_count": 6,
          "metadata": {},
          "output_type": "execute_result"
        }
      ],
      "source": [
        "a*2"
      ]
    },
    {
      "cell_type": "markdown",
      "metadata": {
        "id": "85TqLqpVicxs"
      },
      "source": [
        "のような計算も全要素に対して行われる。2つのnumpy.ndarrayに対しても同様な計算ができる。例えば"
      ]
    },
    {
      "cell_type": "code",
      "execution_count": 7,
      "metadata": {
        "id": "fGu_NV28icxt"
      },
      "outputs": [],
      "source": [
        "b = np.array([-1, -2, -3, -4, -5])"
      ]
    },
    {
      "cell_type": "markdown",
      "metadata": {
        "id": "lCwkyjVticxt"
      },
      "source": [
        "に対して"
      ]
    },
    {
      "cell_type": "code",
      "execution_count": 8,
      "metadata": {
        "colab": {
          "base_uri": "https://localhost:8080/"
        },
        "id": "k6_b9DtCicxt",
        "outputId": "b51ab0cc-071c-449b-b070-06b9f362ce81"
      },
      "outputs": [
        {
          "data": {
            "text/plain": [
              "array([0, 0, 0, 0, 0])"
            ]
          },
          "execution_count": 8,
          "metadata": {},
          "output_type": "execute_result"
        }
      ],
      "source": [
        "a + b"
      ]
    },
    {
      "cell_type": "code",
      "execution_count": 9,
      "metadata": {
        "colab": {
          "base_uri": "https://localhost:8080/"
        },
        "id": "YKkvA-DPicxu",
        "outputId": "1f4f8ff0-f762-480d-a450-7ff99cb81f87"
      },
      "outputs": [
        {
          "data": {
            "text/plain": [
              "array([ -1,  -4,  -9, -16, -25])"
            ]
          },
          "execution_count": 9,
          "metadata": {},
          "output_type": "execute_result"
        }
      ],
      "source": [
        "a * b"
      ]
    },
    {
      "cell_type": "markdown",
      "metadata": {
        "id": "_wLEMg9-icxu"
      },
      "source": [
        "は**要素ごとの**和や積を与える。ちなみに上の b は a の各要素を -1 倍したものなので"
      ]
    },
    {
      "cell_type": "code",
      "execution_count": 10,
      "metadata": {
        "colab": {
          "base_uri": "https://localhost:8080/"
        },
        "id": "sSjImtzoicxu",
        "outputId": "9e0d4c67-b52a-46ef-f1c3-275a82ffa46e"
      },
      "outputs": [
        {
          "data": {
            "text/plain": [
              "array([-1, -2, -3, -4, -5])"
            ]
          },
          "execution_count": 10,
          "metadata": {},
          "output_type": "execute_result"
        }
      ],
      "source": [
        "-a"
      ]
    },
    {
      "cell_type": "markdown",
      "metadata": {
        "id": "Z8OeQFojicxu"
      },
      "source": [
        "と書いても同じものが定義できる。これらの操作はリスト（[副教材2-2](https://utokyo-ipp.github.io/2/2-2.html)参照）ではそのままはできない。リストにfor文（[副教材3-2](https://utokyo-ipp.github.io/3/3-2.html)）を適用すればできないことはないが、numpy.ndarray を使った方が速いしコードも短くて済む。"
      ]
    },
    {
      "cell_type": "markdown",
      "metadata": {
        "id": "zgihOfhBicxv"
      },
      "source": [
        "真理値の配列も作れる。例えば"
      ]
    },
    {
      "cell_type": "code",
      "execution_count": 11,
      "metadata": {
        "colab": {
          "base_uri": "https://localhost:8080/"
        },
        "id": "7RnI2SGyicxv",
        "outputId": "be42879d-d226-4ecd-cc9b-fd2a68a227b4"
      },
      "outputs": [
        {
          "data": {
            "text/plain": [
              "array([ True,  True,  True,  True,  True])"
            ]
          },
          "execution_count": 11,
          "metadata": {},
          "output_type": "execute_result"
        }
      ],
      "source": [
        "a > 0"
      ]
    },
    {
      "cell_type": "markdown",
      "metadata": {
        "id": "zpf-WneWicxv"
      },
      "source": [
        "はaの各要素が全部正なので全部がTrueの配列になる。"
      ]
    },
    {
      "cell_type": "markdown",
      "metadata": {
        "id": "S5y3V3tcicxv"
      },
      "source": [
        "## numpyの関数"
      ]
    },
    {
      "cell_type": "markdown",
      "metadata": {
        "id": "--gDcMOqicxw"
      },
      "source": [
        "numpy には様々な関数が用意されている。例えば上の　a = np.array([1, 2, 3, 4, 5])　は次のようにしても作れる。"
      ]
    },
    {
      "cell_type": "code",
      "execution_count": 12,
      "metadata": {
        "colab": {
          "base_uri": "https://localhost:8080/"
        },
        "id": "70yhfvAgicxw",
        "outputId": "d6752589-8862-466a-9e41-c242c433f0c9"
      },
      "outputs": [
        {
          "data": {
            "text/plain": [
              "array([1, 2, 3, 4, 5])"
            ]
          },
          "execution_count": 12,
          "metadata": {},
          "output_type": "execute_result"
        }
      ],
      "source": [
        "np.arange(1, 6)"
      ]
    },
    {
      "cell_type": "markdown",
      "metadata": {
        "id": "NjhowVsWicxw"
      },
      "source": [
        "arangeというのが関数の名前である。最初の1は含まれるが、6は含まれないことに注意する。Pythonではいつもそういうルールになっている。"
      ]
    },
    {
      "cell_type": "markdown",
      "metadata": {
        "id": "3Jr8nYeMicxx"
      },
      "source": [
        "簡単な演算を行う関数もnumpyに入っている。例えば"
      ]
    },
    {
      "cell_type": "code",
      "execution_count": 13,
      "metadata": {
        "colab": {
          "base_uri": "https://localhost:8080/"
        },
        "id": "PWttcS8oicxx",
        "outputId": "199d32db-994c-49f1-dc3f-ba87b6633fb8"
      },
      "outputs": [
        {
          "data": {
            "text/plain": [
              "array([1.        , 1.41421356, 1.73205081, 2.        , 2.23606798])"
            ]
          },
          "execution_count": 13,
          "metadata": {},
          "output_type": "execute_result"
        }
      ],
      "source": [
        "np.sqrt(a)"
      ]
    },
    {
      "cell_type": "markdown",
      "metadata": {
        "id": "ugzXi6jnicxx"
      },
      "source": [
        "とすると各要素の正の平方根が計算できる。他にも例えば"
      ]
    },
    {
      "cell_type": "code",
      "execution_count": 14,
      "metadata": {
        "colab": {
          "base_uri": "https://localhost:8080/"
        },
        "id": "VXd3lhn0icxx",
        "outputId": "8ad9bfaf-7b40-4663-c794-18064a265a93"
      },
      "outputs": [
        {
          "data": {
            "text/plain": [
              "15"
            ]
          },
          "execution_count": 14,
          "metadata": {},
          "output_type": "execute_result"
        }
      ],
      "source": [
        "np.sum(a)"
      ]
    },
    {
      "cell_type": "markdown",
      "metadata": {
        "id": "vq4qD7nNicxx"
      },
      "source": [
        "とすると配列の全要素の和が得られる。これを使うと、aの要素の平均（mean）は"
      ]
    },
    {
      "cell_type": "code",
      "execution_count": 15,
      "metadata": {
        "id": "elcvf6pIicxy"
      },
      "outputs": [],
      "source": [
        "a_mean = np.sum(a) / len(a)"
      ]
    },
    {
      "cell_type": "code",
      "execution_count": 16,
      "metadata": {
        "colab": {
          "base_uri": "https://localhost:8080/"
        },
        "id": "3DYHbr0Qicxy",
        "outputId": "75a14706-28b1-4c65-bdf7-eafe979bc985"
      },
      "outputs": [
        {
          "data": {
            "text/plain": [
              "3.0"
            ]
          },
          "execution_count": 16,
          "metadata": {},
          "output_type": "execute_result"
        }
      ],
      "source": [
        "a_mean"
      ]
    },
    {
      "cell_type": "markdown",
      "metadata": {
        "id": "peWu4IqAicxy"
      },
      "source": [
        "となる。len(a)はaの要素数（今の場合は5）を返す関数である。実は平均のようなよく使う演算であれば関数が用意されており、"
      ]
    },
    {
      "cell_type": "code",
      "execution_count": 17,
      "metadata": {
        "colab": {
          "base_uri": "https://localhost:8080/"
        },
        "id": "Ro6mUUhaicxy",
        "outputId": "2f5b248e-aca3-4a0c-e3f9-1be4b2e4b5cd"
      },
      "outputs": [
        {
          "data": {
            "text/plain": [
              "3.0"
            ]
          },
          "execution_count": 17,
          "metadata": {},
          "output_type": "execute_result"
        }
      ],
      "source": [
        "np.mean(a)"
      ]
    },
    {
      "cell_type": "markdown",
      "metadata": {
        "id": "4WjKFdhaicxz"
      },
      "source": [
        "とすれば上のようにしなくても一発で計算できる。平均以外の統計量（中央値や標準偏差など）についても大体関数が用意されている。"
      ]
    },
    {
      "cell_type": "markdown",
      "metadata": {},
      "source": [
        "上の例のように、関数に入力する値は**関数名の後に丸括弧()をつけてその中に入れる**。一方で、配列の要素を指定する場合は角括弧[]を使うので区別に注意する。例えば、aという配列の0番目（最初）の要素はa[0]と書くと得られる。"
      ]
    },
    {
      "cell_type": "code",
      "execution_count": 18,
      "metadata": {},
      "outputs": [
        {
          "data": {
            "text/plain": [
              "1"
            ]
          },
          "execution_count": 18,
          "metadata": {},
          "output_type": "execute_result"
        }
      ],
      "source": [
        "a[0]"
      ]
    },
    {
      "cell_type": "markdown",
      "metadata": {
        "id": "mhIVz436icxz"
      },
      "source": [
        "## スライス"
      ]
    },
    {
      "cell_type": "markdown",
      "metadata": {
        "id": "7NuoPhjTicxz"
      },
      "source": [
        "がうまく使えるとできることが増える。"
      ]
    },
    {
      "cell_type": "code",
      "execution_count": 19,
      "metadata": {
        "colab": {
          "base_uri": "https://localhost:8080/"
        },
        "id": "jBBN-IISicx0",
        "outputId": "ef46ee0b-362b-46f4-a29b-c4d8c1c0a9f4"
      },
      "outputs": [
        {
          "data": {
            "text/plain": [
              "array([1, 2, 3, 4, 5])"
            ]
          },
          "execution_count": 19,
          "metadata": {},
          "output_type": "execute_result"
        }
      ],
      "source": [
        "a"
      ]
    },
    {
      "cell_type": "markdown",
      "metadata": {
        "id": "hfUM3T_dicx0"
      },
      "source": [
        "に対して、"
      ]
    },
    {
      "cell_type": "code",
      "execution_count": 20,
      "metadata": {
        "colab": {
          "base_uri": "https://localhost:8080/"
        },
        "id": "hgWFUFNIicx0",
        "outputId": "158cddc0-a63b-4c89-bbb8-a3ee55097943"
      },
      "outputs": [
        {
          "data": {
            "text/plain": [
              "array([2, 3])"
            ]
          },
          "execution_count": 20,
          "metadata": {},
          "output_type": "execute_result"
        }
      ],
      "source": [
        "a[1:3]"
      ]
    },
    {
      "cell_type": "markdown",
      "metadata": {
        "id": "BlIWHn8gicx0"
      },
      "source": [
        "とすると、aの1番目以降、3番目より前（上のnp.arange関数の場合と同様3番目は入らない）の要素が取り出せる。最初は0番目と数えるのがPythonのルールである。これ以外に真理値の配列も使える。例えばさっきの"
      ]
    },
    {
      "cell_type": "code",
      "execution_count": 21,
      "metadata": {
        "colab": {
          "base_uri": "https://localhost:8080/"
        },
        "id": "2hGyLRi1icx0",
        "outputId": "dc60c9e4-5a9d-4d9f-f06f-f4c26b12bc4b"
      },
      "outputs": [
        {
          "data": {
            "text/plain": [
              "array([1, 2, 3, 4, 5])"
            ]
          },
          "execution_count": 21,
          "metadata": {},
          "output_type": "execute_result"
        }
      ],
      "source": [
        "a"
      ]
    },
    {
      "cell_type": "markdown",
      "metadata": {
        "id": "OEz2MryAicx1"
      },
      "source": [
        "に対して、3より大きい要素だけ取り出したいとする。そのためには"
      ]
    },
    {
      "cell_type": "code",
      "execution_count": 22,
      "metadata": {
        "colab": {
          "base_uri": "https://localhost:8080/"
        },
        "id": "_yraX4bDicx1",
        "outputId": "30258595-b88b-401e-9424-5c1a066a6dfb"
      },
      "outputs": [
        {
          "data": {
            "text/plain": [
              "array([False, False, False,  True,  True])"
            ]
          },
          "execution_count": 22,
          "metadata": {},
          "output_type": "execute_result"
        }
      ],
      "source": [
        "a > 3"
      ]
    },
    {
      "cell_type": "markdown",
      "metadata": {
        "id": "AK3cX1tMicx1"
      },
      "source": [
        "という配列を使って"
      ]
    },
    {
      "cell_type": "code",
      "execution_count": 23,
      "metadata": {
        "colab": {
          "base_uri": "https://localhost:8080/"
        },
        "id": "OfGJwUO6icx1",
        "outputId": "0950542e-5a4e-40ba-c32f-7951522fff4d"
      },
      "outputs": [
        {
          "data": {
            "text/plain": [
              "array([4, 5])"
            ]
          },
          "execution_count": 23,
          "metadata": {},
          "output_type": "execute_result"
        }
      ],
      "source": [
        "a[a > 3]"
      ]
    },
    {
      "cell_type": "markdown",
      "metadata": {
        "id": "hdebJQsRicx2"
      },
      "source": [
        "とすればよい。もう少し複雑な例として、aと同じ長さの配列cを"
      ]
    },
    {
      "cell_type": "code",
      "execution_count": 24,
      "metadata": {
        "id": "P3plcQuBicx2"
      },
      "outputs": [],
      "source": [
        "c = np.array([1, 0, 0, 1, 0])"
      ]
    },
    {
      "cell_type": "markdown",
      "metadata": {
        "id": "NgSkywERicx2"
      },
      "source": [
        "で定義し、cが1のところだけ（つまり0番目と3番目）で<u>aの要素について</u>和をとってみる。そのためには"
      ]
    },
    {
      "cell_type": "code",
      "execution_count": 25,
      "metadata": {
        "colab": {
          "base_uri": "https://localhost:8080/"
        },
        "id": "9IcnL68Licx2",
        "outputId": "9c24b10e-c819-4a08-e26e-84fa20c6f104"
      },
      "outputs": [
        {
          "data": {
            "text/plain": [
              "5"
            ]
          },
          "execution_count": 25,
          "metadata": {},
          "output_type": "execute_result"
        }
      ],
      "source": [
        "np.sum(a[c==1])"
      ]
    },
    {
      "cell_type": "markdown",
      "metadata": {
        "id": "EpN0jJvpicx3"
      },
      "source": [
        "などとすればよい。"
      ]
    }
  ],
  "metadata": {
    "colab": {
      "provenance": []
    },
    "kernelspec": {
      "display_name": "jax",
      "language": "python",
      "name": "python3"
    },
    "language_info": {
      "codemirror_mode": {
        "name": "ipython",
        "version": 3
      },
      "file_extension": ".py",
      "mimetype": "text/x-python",
      "name": "python",
      "nbconvert_exporter": "python",
      "pygments_lexer": "ipython3",
      "version": "3.10.12"
    }
  },
  "nbformat": 4,
  "nbformat_minor": 0
}
