{
  "cells": [
    {
      "cell_type": "markdown",
      "metadata": {
        "id": "Q6PznxZOicx3"
      },
      "source": [
        "# Matplotlib によるプロット"
      ]
    },
    {
      "cell_type": "markdown",
      "metadata": {
        "id": "a54biZXOicx3"
      },
      "source": [
        "グラフを作成するための標準的なモジュールである　matplotlib.pyplot を使ってみる。以下のようにインポートする。"
      ]
    },
    {
      "cell_type": "code",
      "execution_count": 1,
      "metadata": {
        "id": "CGRaiKT_icx3"
      },
      "outputs": [],
      "source": [
        "import matplotlib.pyplot as plt"
      ]
    },
    {
      "cell_type": "markdown",
      "metadata": {
        "id": "VJR0ayBaicx3"
      },
      "source": [
        "plt.plot() の引数にデータを入れるとプロットが表示される。例えば"
      ]
    },
    {
      "cell_type": "code",
      "execution_count": 2,
      "metadata": {
        "id": "0X7DLEVcicx3"
      },
      "outputs": [],
      "source": [
        "x, y = [1, 2, 3], [0, 0, 5]"
      ]
    },
    {
      "cell_type": "code",
      "execution_count": 3,
      "metadata": {
        "colab": {
          "base_uri": "https://localhost:8080/",
          "height": 449
        },
        "id": "9noe9kD5icx4",
        "outputId": "21c9427e-efda-4033-aad7-4862510fdc0c"
      },
      "outputs": [
        {
          "data": {
            "image/png": "[encoded data removed]",
            "text/plain": [
              "<Figure size 640x480 with 1 Axes>"
            ]
          },
          "metadata": {},
          "output_type": "display_data"
        }
      ],
      "source": [
        "plt.xlabel(\"x\") # x軸のラベル\n",
        "plt.ylabel(\"y\") # y軸のラベル\n",
        "plt.plot(x, y);"
      ]
    },
    {
      "cell_type": "markdown",
      "metadata": {
        "id": "nXf9BgOPicx4"
      },
      "source": [
        "このように plt.plot() はデフォルトだと折れ線になる。以下のようにすると点にもできる。"
      ]
    },
    {
      "cell_type": "code",
      "execution_count": 4,
      "metadata": {
        "colab": {
          "base_uri": "https://localhost:8080/",
          "height": 449
        },
        "id": "b8IDfyQDicx4",
        "outputId": "b2c6d222-f201-4d5f-ad74-57e3ae26ba8f"
      },
      "outputs": [
        {
          "data": {
            "image/png": "[encoded data removed]",
            "text/plain": [
              "<Figure size 640x480 with 1 Axes>"
            ]
          },
          "metadata": {},
          "output_type": "display_data"
        }
      ],
      "source": [
        "plt.xlabel(\"x\") # x軸のラベル\n",
        "plt.ylabel(\"y\") # y軸のラベル\n",
        "plt.plot(x, y, \".\");"
      ]
    },
    {
      "cell_type": "markdown",
      "metadata": {
        "id": "KF0Q1h2Kicx4"
      },
      "source": [
        "点以外のシンボル（マーカー marker という）を使う、点の大きさや色を変える、点を透明にする、線で繋ぐ、数字・文字のフォントを変えるなどなど大抵のことはできる。何かやりたい操作があったら検索してみるとよい。[副教材](https://utokyo-ipp.github.io/appendix/5-matplotlib.html)にも説明がある。[seaborn](https://seaborn.pydata.org) などのパッケージを使ってグラフの見た目を向上（個人の感想）させることもできる。このリンクのように公式ドキュメントは英語の場合も多いが、検索すれば大体日本語の解説も出てくる。もちろん変なことが書いてある場合もないわけではないが、ちょっと使う分には十分なことも多い。"
      ]
    },
    {
      "cell_type": "markdown",
      "metadata": {
        "id": "96mPu--Licx5"
      },
      "source": [
        "## グラフの例"
      ]
    },
    {
      "cell_type": "markdown",
      "metadata": {
        "id": "XkmAGrVticx5"
      },
      "source": [
        "例として、$y=x^2+1$ のグラフを $-5 < x < 5$ の範囲で描いてみよう。データ点が必要だが、上のように配列を自分で書くのは面倒である。そこでnumpyを用いて"
      ]
    },
    {
      "cell_type": "code",
      "execution_count": 5,
      "metadata": {},
      "outputs": [],
      "source": [
        "import numpy as np"
      ]
    },
    {
      "cell_type": "code",
      "execution_count": 6,
      "metadata": {
        "id": "FhnR2nEqicx5"
      },
      "outputs": [],
      "source": [
        "x = np.linspace(-5, 5, 100)"
      ]
    },
    {
      "cell_type": "markdown",
      "metadata": {
        "id": "YY-N5PrCicx5"
      },
      "source": [
        "としてみよう。こうすると -5 から 5 まで等間隔で 100 要素を持った numpy の配列が作られる。"
      ]
    },
    {
      "cell_type": "code",
      "execution_count": 7,
      "metadata": {
        "colab": {
          "base_uri": "https://localhost:8080/"
        },
        "id": "ovzEX7R8icx6",
        "outputId": "87fbe0c0-faa3-4531-83ef-d3d0477d9284",
        "scrolled": true
      },
      "outputs": [
        {
          "data": {
            "text/plain": [
              "array([-5.        , -4.8989899 , -4.7979798 , -4.6969697 , -4.5959596 ,\n",
              "       -4.49494949, -4.39393939, -4.29292929, -4.19191919, -4.09090909,\n",
              "       -3.98989899, -3.88888889, -3.78787879, -3.68686869, -3.58585859,\n",
              "       -3.48484848, -3.38383838, -3.28282828, -3.18181818, -3.08080808,\n",
              "       -2.97979798, -2.87878788, -2.77777778, -2.67676768, -2.57575758,\n",
              "       -2.47474747, -2.37373737, -2.27272727, -2.17171717, -2.07070707,\n",
              "       -1.96969697, -1.86868687, -1.76767677, -1.66666667, -1.56565657,\n",
              "       -1.46464646, -1.36363636, -1.26262626, -1.16161616, -1.06060606,\n",
              "       -0.95959596, -0.85858586, -0.75757576, -0.65656566, -0.55555556,\n",
              "       -0.45454545, -0.35353535, -0.25252525, -0.15151515, -0.05050505,\n",
              "        0.05050505,  0.15151515,  0.25252525,  0.35353535,  0.45454545,\n",
              "        0.55555556,  0.65656566,  0.75757576,  0.85858586,  0.95959596,\n",
              "        1.06060606,  1.16161616,  1.26262626,  1.36363636,  1.46464646,\n",
              "        1.56565657,  1.66666667,  1.76767677,  1.86868687,  1.96969697,\n",
              "        2.07070707,  2.17171717,  2.27272727,  2.37373737,  2.47474747,\n",
              "        2.57575758,  2.67676768,  2.77777778,  2.87878788,  2.97979798,\n",
              "        3.08080808,  3.18181818,  3.28282828,  3.38383838,  3.48484848,\n",
              "        3.58585859,  3.68686869,  3.78787879,  3.88888889,  3.98989899,\n",
              "        4.09090909,  4.19191919,  4.29292929,  4.39393939,  4.49494949,\n",
              "        4.5959596 ,  4.6969697 ,  4.7979798 ,  4.8989899 ,  5.        ])"
            ]
          },
          "execution_count": 7,
          "metadata": {},
          "output_type": "execute_result"
        }
      ],
      "source": [
        "x"
      ]
    },
    {
      "cell_type": "markdown",
      "metadata": {},
      "source": [
        "実際の配列の長さは関数 len で確かめられる。"
      ]
    },
    {
      "cell_type": "code",
      "execution_count": 8,
      "metadata": {
        "colab": {
          "base_uri": "https://localhost:8080/"
        },
        "id": "mDlLD-g9icx6",
        "outputId": "eba55239-0818-403e-a49b-f2a35a89dd8a"
      },
      "outputs": [
        {
          "data": {
            "text/plain": [
              "100"
            ]
          },
          "execution_count": 8,
          "metadata": {},
          "output_type": "execute_result"
        }
      ],
      "source": [
        "len(x)"
      ]
    },
    {
      "cell_type": "markdown",
      "metadata": {
        "id": "PPQ5Zjc0icx6"
      },
      "source": [
        "この配列を使うと以下のようにグラフがすぐ書ける。"
      ]
    },
    {
      "cell_type": "code",
      "execution_count": 9,
      "metadata": {
        "id": "Xg9mC9-qicx6"
      },
      "outputs": [],
      "source": [
        "y = 2 * x**2 + 1 # 2x^2 + 1"
      ]
    },
    {
      "cell_type": "code",
      "execution_count": 10,
      "metadata": {
        "colab": {
          "base_uri": "https://localhost:8080/",
          "height": 449
        },
        "id": "Ac0y3W-jicx7",
        "outputId": "6b0bccb1-69f7-434c-b05a-aacc3c4240de"
      },
      "outputs": [
        {
          "data": {
            "image/png": "[encoded data removed]",
            "text/plain": [
              "<Figure size 640x480 with 1 Axes>"
            ]
          },
          "metadata": {},
          "output_type": "display_data"
        }
      ],
      "source": [
        "plt.xlim(-5, 5) # xの範囲を-5から5に制限した\n",
        "plt.xlabel(\"x\") # x軸のラベル\n",
        "plt.ylabel(\"y\") # y軸のラベル\n",
        "plt.plot(x, y);"
      ]
    },
    {
      "cell_type": "code",
      "execution_count": null,
      "metadata": {},
      "outputs": [],
      "source": []
    }
  ],
  "metadata": {
    "colab": {
      "provenance": []
    },
    "kernelspec": {
      "display_name": "jax",
      "language": "python",
      "name": "python3"
    },
    "language_info": {
      "codemirror_mode": {
        "name": "ipython",
        "version": 3
      },
      "file_extension": ".py",
      "mimetype": "text/x-python",
      "name": "python",
      "nbconvert_exporter": "python",
      "pygments_lexer": "ipython3",
      "version": "3.10.12"
    }
  },
  "nbformat": 4,
  "nbformat_minor": 0
}
